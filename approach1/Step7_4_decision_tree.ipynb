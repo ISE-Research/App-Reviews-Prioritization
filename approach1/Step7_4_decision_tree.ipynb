{
  "nbformat": 4,
  "nbformat_minor": 0,
  "metadata": {
    "colab": {
      "provenance": []
    },
    "kernelspec": {
      "name": "python3",
      "display_name": "Python 3"
    },
    "language_info": {
      "name": "python"
    }
  },
  "cells": [
    {
      "cell_type": "code",
      "execution_count": null,
      "metadata": {
        "id": "x-wL1qjt5iAr"
      },
      "outputs": [],
      "source": [
        "import pandas as pd\n",
        "import numpy as np\n",
        "from sklearn import tree\n",
        "from sklearn.model_selection import train_test_split, cross_val_score, StratifiedKFold\n",
        "from sklearn.metrics import classification_report, make_scorer, accuracy_score\n",
        "from sklearn.inspection import plot_partial_dependence\n",
        "\n",
        "from google.colab import drive\n",
        "drive.mount('/content/drive')\n",
        "\n",
        "# path = '/content/drive/My Drive/ready_to_train_0 to120000 reviews.csv'\n",
        "# path = '/content/drive/My Drive/thesis-part1-combined 76402 reviews_ready_to_train with tf-idf and adv and adj.csv'\n",
        "path = '/content/drive/My Drive/ready_to_train_0 to120000 reviews with tf-idf adv and adj and intention.csv'\n",
        "\n",
        "data0 = pd.read_csv(path)\n",
        "data = data0.reindex(np.random.permutation(data0.index))\n",
        "\n",
        "# Dropping unwanted columns\n",
        "data = data.drop(data.columns[2], axis=1)\n",
        "data = data.drop(data.columns[5], axis=1)\n",
        "\n",
        "X = data[['rate', 'review_length', 'readability_score', 'review_subjectivity', 'review_verbs_count', 'review_sentiment', 'Topic1', 'Topic6', 'review_adj_count', 'review_adv_count', 'sum_of_tfidf', 'information giving', 'other']]\n",
        "y = data['response']\n",
        "\n",
        "# Initialize the DecisionTreeClassifier\n",
        "DecisionTreeClassifier_model = tree.DecisionTreeClassifier()\n",
        "\n",
        "# Define a scoring function\n",
        "scoring = make_scorer(accuracy_score)\n",
        "\n",
        "# Perform 5-fold cross-validation\n",
        "cv = StratifiedKFold(n_splits=5)\n",
        "cross_val_scores = cross_val_score(DecisionTreeClassifier_model, X, y, cv=cv, scoring=scoring)\n",
        "\n",
        "print(\"Cross-validation scores: \", cross_val_scores)\n",
        "print(\"Mean cross-validation score: \", np.mean(cross_val_scores))\n",
        "\n",
        "# Train the model on the full dataset\n",
        "DecisionTreeClassifier_model.fit(X, y)\n",
        "\n",
        "# If you still want to split the data and print classification report for the test set\n",
        "X_train, X_test, y_train, y_test = train_test_split(X, y, test_size=0.20)\n",
        "DecisionTreeClassifier_model.fit(X_train, y_train)\n",
        "y_pred_DecisionTreeClassifier_model = DecisionTreeClassifier_model.predict(X_test)\n",
        "print(classification_report(y_test, y_pred_DecisionTreeClassifier_model))\n",
        "\n",
        "# Plot partial dependence for selected features\n",
        "features = [3, 5, 6]\n",
        "plot_partial_dependence(DecisionTreeClassifier_model, X_train, features)\n"
      ]
    }
  ]
}