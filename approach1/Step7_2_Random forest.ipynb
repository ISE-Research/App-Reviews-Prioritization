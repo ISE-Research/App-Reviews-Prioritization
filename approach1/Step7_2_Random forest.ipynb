{
  "nbformat": 4,
  "nbformat_minor": 0,
  "metadata": {
    "colab": {
      "provenance": []
    },
    "kernelspec": {
      "name": "python3",
      "display_name": "Python 3"
    },
    "language_info": {
      "name": "python"
    }
  },
  "cells": [
    {
      "cell_type": "code",
      "source": [],
      "metadata": {
        "id": "Na72c4bffO2w"
      },
      "execution_count": null,
      "outputs": []
    },
    {
      "cell_type": "code",
      "source": [
        "import pandas as pd\n",
        "from sklearn.model_selection import cross_val_score\n",
        "from sklearn.ensemble import RandomForestRegressor\n",
        "from sklearn.metrics import make_scorer\n",
        "from sklearn.model_selection import KFold\n",
        "from sklearn.metrics import mean_squared_error\n",
        "#from sklearn.metrics import root_mean_squared_error\n",
        "import numpy as np\n",
        "\n",
        "def root_mean_squared_error(y_true, y_pred):\n",
        "    return np.sqrt(mean_squared_error(y_true, y_pred))\n",
        "\n",
        "path = 'ready_to_train_dataset (2).csv'\n",
        "\n",
        "# Load Concrete Compressive Strength dataset\n",
        "data = pd.read_csv(path)\n"
      ],
      "metadata": {
        "id": "vZ6XGj74c59d"
      },
      "execution_count": null,
      "outputs": []
    },
    {
      "cell_type": "code",
      "source": [
        "# Drop samples with missing values\n",
        "data.dropna(inplace=True)\n",
        "\n",
        "# Separate features and target variable\n",
        "X = data[['rate','review_length','readability_score','review_subjectivity','review_verbs_count','review_sentiment','Topic1','Topic6','review_adj_count','review_adv_count','sum_of_tfidf','information giving','other']]\n",
        "y = data['response']\n",
        "\n",
        "from sklearn.model_selection import train_test_split\n",
        "X_train, X_test, y_train, y_test = train_test_split(X, y, test_size = 0.20)\n",
        "\n"
      ],
      "metadata": {
        "id": "Sbjd8ighc8LK"
      },
      "execution_count": null,
      "outputs": []
    },
    {
      "cell_type": "code",
      "source": [
        "# Initialize RandomForestRegressor\n",
        "rf_regressor = RandomForestRegressor()\n",
        "\n",
        "# Define 5-Fold Cross Validation\n",
        "kf = KFold(n_splits=5, shuffle=True, random_state=42)\n",
        "\n",
        "# Define RMSE as the scoring metric\n",
        "scorer = make_scorer(root_mean_squared_error)\n",
        "\n",
        "# Store RMSE values for each number of estimators\n",
        "rmse_values = []\n",
        "\n",
        "# Perform Cross Validation with different number of estimators\n",
        "for n_estimators in np.arange(1, 101, 5):\n",
        "    rf_regressor.set_params(n_estimators=n_estimators)\n",
        "    scores = cross_val_score(rf_regressor, X_train, y_train, cv=kf, scoring=scorer)\n",
        "    rmse = np.mean(scores)\n",
        "    rmse_values.append(rmse)\n",
        "    print(f\"Number of Estimators: {n_estimators}, Average RMSE: {rmse:.3f}\")\n"
      ],
      "metadata": {
        "colab": {
          "base_uri": "https://localhost:8080/"
        },
        "id": "VBbhZAt_dAUU",
        "outputId": "97f4f5f8-a50b-4706-97dd-abae3483a9c1"
      },
      "execution_count": null,
      "outputs": [
        {
          "output_type": "stream",
          "name": "stdout",
          "text": [
            "Number of Estimators: 1, Average RMSE: 0.549\n",
            "Number of Estimators: 6, Average RMSE: 0.426\n",
            "Number of Estimators: 11, Average RMSE: 0.412\n",
            "Number of Estimators: 16, Average RMSE: 0.407\n",
            "Number of Estimators: 21, Average RMSE: 0.405\n",
            "Number of Estimators: 26, Average RMSE: 0.403\n",
            "Number of Estimators: 31, Average RMSE: 0.402\n",
            "Number of Estimators: 36, Average RMSE: 0.401\n",
            "Number of Estimators: 41, Average RMSE: 0.400\n",
            "Number of Estimators: 46, Average RMSE: 0.400\n",
            "Number of Estimators: 51, Average RMSE: 0.399\n",
            "Number of Estimators: 56, Average RMSE: 0.399\n",
            "Number of Estimators: 61, Average RMSE: 0.399\n",
            "Number of Estimators: 66, Average RMSE: 0.399\n",
            "Number of Estimators: 71, Average RMSE: 0.398\n",
            "Number of Estimators: 76, Average RMSE: 0.398\n",
            "Number of Estimators: 81, Average RMSE: 0.398\n",
            "Number of Estimators: 86, Average RMSE: 0.398\n",
            "Number of Estimators: 91, Average RMSE: 0.398\n",
            "Number of Estimators: 96, Average RMSE: 0.398\n"
          ]
        }
      ]
    },
    {
      "cell_type": "code",
      "source": [
        "# Find the optimal number of estimators with the minimum RMSE\n",
        "optimal_estimators = np.argmin(rmse_values) + 1\n",
        "print(f\"Optimal number of estimators: {optimal_estimators}, Minimum RMSE: {rmse_values[optimal_estimators - 1]:.3f}\")\n",
        "\n",
        "# Train the final model with the optimal number of estimators\n",
        "rf_regressor.set_params(n_estimators=optimal_estimators)\n",
        "rf_regressor.fit(X_train, y_train)\n"
      ],
      "metadata": {
        "id": "X5OxbXpqdElC"
      },
      "execution_count": null,
      "outputs": []
    },
    {
      "cell_type": "code",
      "execution_count": null,
      "metadata": {
        "id": "x5tiemYZ7Q3u",
        "colab": {
          "base_uri": "https://localhost:8080/"
        },
        "outputId": "151ad1bc-5a85-4358-cf9a-85f5dbc3f43f"
      },
      "outputs": [
        {
          "output_type": "stream",
          "name": "stdout",
          "text": [
            "              precision    recall  f1-score   support\n",
            "\n",
            "           0       0.62      1.00      0.77      9466\n",
            "           1       0.89      0.02      0.04      5815\n",
            "\n",
            "    accuracy                           0.63     15281\n",
            "   macro avg       0.76      0.51      0.40     15281\n",
            "weighted avg       0.73      0.63      0.49     15281\n",
            "\n",
            "Feature Importance:\n",
            "                Feature  Importance\n",
            "0                  rate       0.330\n",
            "10         sum_of_tfidf       0.159\n",
            "1         review_length       0.099\n",
            "3   review_subjectivity       0.091\n",
            "2     readability_score       0.084\n",
            "6                Topic1       0.052\n",
            "7                Topic6       0.039\n",
            "5      review_sentiment       0.037\n",
            "8      review_adj_count       0.034\n",
            "4    review_verbs_count       0.032\n",
            "9      review_adv_count       0.029\n",
            "12                other       0.007\n",
            "11   information giving       0.006\n"
          ]
        }
      ],
      "source": [
        "y_pred = rf_regressor.predict(X_test)\n",
        "\n",
        "y_pred = [np.int64(element) for element in y_pred]\n",
        "\n",
        "\n",
        "\n",
        "from sklearn.metrics import classification_report\n",
        "print(classification_report(y_test, y_pred))\n",
        "\n",
        "# Display feature importance\n",
        "feature_importance = rf_regressor.feature_importances_\n",
        "feature_importance_df = pd.DataFrame({\"Feature\": X.columns, \"Importance\": feature_importance})\n",
        "feature_importance_df = feature_importance_df.sort_values(by=\"Importance\", ascending=False)\n",
        "print(\"Feature Importance:\")\n",
        "print(feature_importance_df.round(3))\n"
      ]
    }
  ]
}