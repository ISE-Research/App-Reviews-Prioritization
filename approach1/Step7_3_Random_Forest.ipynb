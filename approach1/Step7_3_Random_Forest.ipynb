{
  "nbformat": 4,
  "nbformat_minor": 0,
  "metadata": {
    "colab": {
      "provenance": []
    },
    "kernelspec": {
      "name": "python3",
      "display_name": "Python 3"
    },
    "language_info": {
      "name": "python"
    }
  },
  "cells": [
    {
      "cell_type": "code",
      "execution_count": null,
      "metadata": {
        "id": "sOm-9A9U4AsB"
      },
      "outputs": [],
      "source": [
        "import pandas as pd\n",
        "from sklearn.model_selection import cross_val_score, KFold\n",
        "from sklearn.ensemble import RandomForestRegressor\n",
        "from sklearn.metrics import make_scorer, mean_squared_error\n",
        "import numpy as np\n",
        "\n",
        "def root_mean_squared_error(y_true, y_pred):\n",
        "    return np.sqrt(mean_squared_error(y_true, y_pred))\n",
        "\n",
        "path = 'ready_to_train_dataset (2).csv'\n",
        "\n",
        "# Load dataset\n",
        "data = pd.read_csv(path)\n",
        "\n",
        "# Drop samples with missing values\n",
        "data.dropna(inplace=True)\n",
        "\n",
        "# Separate features and target variable\n",
        "X = data[['rate', 'review_length', 'readability_score', 'review_subjectivity',\n",
        "          'review_verbs_count', 'review_sentiment', 'Topic1', 'Topic6',\n",
        "          'review_adj_count', 'review_adv_count', 'sum_of_tfidf',\n",
        "          'information giving', 'other']]\n",
        "y = data['response']\n",
        "\n",
        "# Initialize RandomForestRegressor\n",
        "rf_regressor = RandomForestRegressor()\n",
        "\n",
        "# Define 5-Fold Cross Validation\n",
        "kf = KFold(n_splits=5, shuffle=True, random_state=42)\n",
        "\n",
        "# Define RMSE as the scoring metric\n",
        "scorer = make_scorer(root_mean_squared_error)\n",
        "\n",
        "# Store RMSE values for each number of estimators\n",
        "rmse_values = []\n",
        "\n",
        "# Perform Cross Validation with different number of estimators\n",
        "for n_estimators in np.arange(1, 101, 5):\n",
        "    rf_regressor.set_params(n_estimators=n_estimators)\n",
        "    scores = cross_val_score(rf_regressor, X, y, cv=kf, scoring=scorer)\n",
        "    rmse = np.mean(scores)\n",
        "    rmse_values.append(rmse)\n",
        "    print(f\"Number of Estimators: {n_estimators}, Average RMSE: {rmse:.3f}\")\n",
        "\n",
        "# Find the optimal number of estimators with the minimum RMSE\n",
        "optimal_estimators = np.argmin(rmse_values) * 5 + 1\n",
        "print(f\"Optimal number of estimators: {optimal_estimators}, Minimum RMSE: {rmse_values[optimal_estimators // 5]:.3f}\")\n",
        "\n",
        "# Train the final model with the optimal number of estimators\n",
        "rf_regressor.set_params(n_estimators=optimal_estimators)\n",
        "rf_regressor.fit(X, y)\n",
        "\n",
        "# Use cross_val_predict for generating predictions for evaluation\n",
        "from sklearn.model_selection import cross_val_predict\n",
        "y_pred = cross_val_predict(rf_regressor, X, y, cv=kf)\n",
        "\n",
        "# Convert predictions to int64 for classification report\n",
        "y_pred = [np.int64(element) for element in y_pred]\n",
        "\n",
        "from sklearn.metrics import classification_report\n",
        "print(classification_report(y, y_pred))\n",
        "\n",
        "# Display feature importance\n",
        "feature_importance = rf_regressor.feature_importances_\n",
        "feature_importance_df = pd.DataFrame({\"Feature\": X.columns, \"Importance\": feature_importance})\n",
        "feature_importance_df = feature_importance_df.sort_values(by=\"Importance\", ascending=False)\n",
        "print(\"Feature Importance:\")\n",
        "print(feature_importance_df.round(3))\n"
      ]
    }
  ]
}