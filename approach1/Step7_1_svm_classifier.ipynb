{
  "nbformat": 4,
  "nbformat_minor": 0,
  "metadata": {
    "colab": {
      "provenance": []
    },
    "kernelspec": {
      "name": "python3",
      "display_name": "Python 3"
    },
    "language_info": {
      "name": "python"
    }
  },
  "cells": [
    {
      "cell_type": "code",
      "execution_count": null,
      "metadata": {
        "id": "aKN_yGROzT58"
      },
      "outputs": [],
      "source": [
        "import pandas as pd\n",
        "import numpy as np\n",
        "import matplotlib.pyplot as plt\n",
        "from sklearn.model_selection import train_test_split, cross_val_score, KFold\n",
        "from sklearn.svm import SVC\n",
        "from sklearn.metrics import classification_report, confusion_matrix\n",
        "from sklearn.feature_extraction.text import CountVectorizer\n",
        "from sklearn.svm import LinearSVC\n",
        "from sklearn.inspection import plot_partial_dependence\n",
        "import io\n",
        "from google.colab import drive\n",
        "\n",
        "%matplotlib inline\n",
        "\n",
        "# Mount Google Drive\n",
        "drive.mount('/content/drive')\n",
        "path = '/content/drive/My Drive/thesis-part1-combined 76402 reviews_ready_to_train with tf-idf and adv and adj and intention.csv'\n",
        "\n",
        "# Load data\n",
        "data0 = pd.read_csv(path)\n",
        "data = data0.reindex(np.random.permutation(data0.index))\n",
        "data = data.drop(data.columns[2], axis=1)\n",
        "data = data.drop(data.columns[6], axis=1)\n",
        "\n",
        "# Define features and target\n",
        "X = data.drop('response', axis=1)\n",
        "y = data['response']\n",
        "\n",
        "# Split data\n",
        "X_train, X_test, y_train, y_test = train_test_split(X, y, test_size=0.20, random_state=42)\n",
        "\n",
        "# Initialize 5-fold cross-validation\n",
        "kf = KFold(n_splits=5, shuffle=True, random_state=42)\n",
        "\n",
        "# RBF kernel SVM\n",
        "svclassifier_rbf = SVC(kernel='rbf')\n",
        "scores_rbf = cross_val_score(svclassifier_rbf, X_train, y_train, cv=kf, scoring='accuracy')\n",
        "print(f'RBF Kernel SVM Cross-Validation Scores: {scores_rbf}')\n",
        "print(f'Mean Accuracy: {scores_rbf.mean()}')\n",
        "\n",
        "svclassifier_rbf.fit(X_train, y_train)\n",
        "y_pred_svclassifier_rbf = svclassifier_rbf.predict(X_test)\n",
        "\n",
        "print('Confusion Matrix (RBF Kernel SVM):')\n",
        "print(confusion_matrix(y_test, y_pred_svclassifier_rbf))\n",
        "print('Classification Report (RBF Kernel SVM):')\n",
        "print(classification_report(y_test, y_pred_svclassifier_rbf))\n",
        "\n",
        "# Plot Partial Dependence for RBF kernel SVM\n",
        "features = [3, 5, 6]\n",
        "plot_partial_dependence(svclassifier_rbf, X_train, features)\n",
        "\n",
        "# Sigmoid kernel SVM\n",
        "svclassifier_sigmoid = SVC(kernel='sigmoid')\n",
        "scores_sigmoid = cross_val_score(svclassifier_sigmoid, X_train, y_train, cv=kf, scoring='accuracy')\n",
        "print(f'Sigmoid Kernel SVM Cross-Validation Scores: {scores_sigmoid}')\n",
        "print(f'Mean Accuracy: {scores_sigmoid.mean()}')\n",
        "\n",
        "svclassifier_sigmoid.fit(X_train, y_train)\n",
        "y_pred_svclassifier_sigmoid = svclassifier_sigmoid.predict(X_test)\n",
        "\n",
        "print('Confusion Matrix (Sigmoid Kernel SVM):')\n",
        "print(confusion_matrix(y_test, y_pred_svclassifier_sigmoid))\n",
        "print('Classification Report (Sigmoid Kernel SVM):')\n",
        "print(classification_report(y_test, y_pred_svclassifier_sigmoid))\n"
      ]
    }
  ]
}