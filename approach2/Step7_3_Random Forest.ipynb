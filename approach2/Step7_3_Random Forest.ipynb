{
  "nbformat": 4,
  "nbformat_minor": 0,
  "metadata": {
    "colab": {
      "provenance": []
    },
    "kernelspec": {
      "name": "python3",
      "display_name": "Python 3"
    },
    "language_info": {
      "name": "python"
    }
  },
  "cells": [
    {
      "cell_type": "code",
      "execution_count": null,
      "metadata": {
        "id": "nRtetA-B8NlF"
      },
      "outputs": [],
      "source": [
        "import pandas as pd\n",
        "from sklearn.model_selection import cross_val_score\n",
        "from sklearn.ensemble import RandomForestRegressor\n",
        "from sklearn.metrics import make_scorer\n",
        "from sklearn.model_selection import KFold\n",
        "from sklearn.metrics import mean_squared_error\n",
        "#from sklearn.metrics import root_mean_squared_error\n",
        "import numpy as np\n",
        "\n",
        "def root_mean_squared_error(y_true, y_pred):\n",
        "    return np.sqrt(mean_squared_error(y_true, y_pred))\n",
        "\n",
        "path = 'Ready_to_train.csv'\n",
        "\n",
        "# Load Concrete Compressive Strength dataset\n",
        "data = pd.read_csv(path)"
      ]
    },
    {
      "cell_type": "code",
      "source": [
        "# Drop samples with missing values\n",
        "data.dropna(inplace=True)\n",
        "\n",
        "# Get names of indexes for which column Age has value 30\n",
        "indexNames = data[ data['difference_in_days'] == -1].index\n",
        "# print(indexNames)\n",
        "# Delete these row indexes from dataFrame\n",
        "data.drop(indexNames , inplace=True)\n",
        "\n",
        "\n",
        "data.loc[data.difference_in_days==0, 'difference_in_days'] = 1\n",
        "data.loc[data.difference_in_days==2, 'difference_in_days'] = 1\n",
        "data.loc[data.difference_in_days==3, 'difference_in_days'] = 1\n",
        "data.loc[data.difference_in_days > 3, 'difference_in_days'] = 0\n",
        "\n",
        "# Separate features and target variable\n",
        "X = data.drop('difference_in_days', axis=1)\n",
        "y = data['difference_in_days']\n",
        "\n",
        "from sklearn.model_selection import train_test_split\n",
        "X_train, X_test, y_train, y_test = train_test_split(X, y, test_size = 0.20)\n",
        "\n"
      ],
      "metadata": {
        "id": "OHFmNQ748qf6"
      },
      "execution_count": null,
      "outputs": []
    },
    {
      "cell_type": "code",
      "source": [
        "xxx = data['difference_in_days'].nunique()\n",
        "print(f\"Unique values: {xxx}\")\n",
        "print(data)\n"
      ],
      "metadata": {
        "id": "m-WagpPiEcuR"
      },
      "execution_count": null,
      "outputs": []
    },
    {
      "cell_type": "code",
      "source": [
        "\n",
        "# Initialize RandomForestRegressor\n",
        "rf_regressor = RandomForestRegressor()\n",
        "\n",
        "# Define 5-Fold Cross Validation\n",
        "kf = KFold(n_splits=5, shuffle=True, random_state=42)\n",
        "\n",
        "# Define RMSE as the scoring metric\n",
        "scorer = make_scorer(root_mean_squared_error)\n",
        "\n",
        "# Store RMSE values for each number of estimators\n",
        "rmse_values = []\n",
        "\n",
        "# Perform Cross Validation with different number of estimators\n",
        "for n_estimators in np.arange(1, 101, 5):\n",
        "    rf_regressor.set_params(n_estimators=n_estimators)\n",
        "    scores = cross_val_score(rf_regressor, X_train, y_train, cv=kf, scoring=scorer)\n",
        "    rmse = np.mean(scores)\n",
        "    rmse_values.append(rmse)\n",
        "    print(f\"Number of Estimators: {n_estimators}, Average RMSE: {rmse:.3f}\")\n"
      ],
      "metadata": {
        "colab": {
          "base_uri": "https://localhost:8080/"
        },
        "id": "hInBNcFh8rS0",
        "outputId": "20d5c83e-8dc1-4f85-97b0-68212dd833aa"
      },
      "execution_count": null,
      "outputs": [
        {
          "output_type": "stream",
          "name": "stdout",
          "text": [
            "Number of Estimators: 1, Average RMSE: 0.373\n",
            "Number of Estimators: 6, Average RMSE: 0.299\n",
            "Number of Estimators: 11, Average RMSE: 0.291\n",
            "Number of Estimators: 16, Average RMSE: 0.288\n",
            "Number of Estimators: 21, Average RMSE: 0.286\n",
            "Number of Estimators: 26, Average RMSE: 0.285\n",
            "Number of Estimators: 31, Average RMSE: 0.285\n",
            "Number of Estimators: 36, Average RMSE: 0.285\n",
            "Number of Estimators: 41, Average RMSE: 0.284\n",
            "Number of Estimators: 46, Average RMSE: 0.284\n",
            "Number of Estimators: 51, Average RMSE: 0.284\n",
            "Number of Estimators: 56, Average RMSE: 0.283\n",
            "Number of Estimators: 61, Average RMSE: 0.283\n",
            "Number of Estimators: 66, Average RMSE: 0.283\n",
            "Number of Estimators: 71, Average RMSE: 0.283\n",
            "Number of Estimators: 76, Average RMSE: 0.283\n",
            "Number of Estimators: 81, Average RMSE: 0.283\n",
            "Number of Estimators: 86, Average RMSE: 0.283\n",
            "Number of Estimators: 91, Average RMSE: 0.283\n",
            "Number of Estimators: 96, Average RMSE: 0.283\n"
          ]
        }
      ]
    },
    {
      "cell_type": "code",
      "source": [
        "# Find the optimal number of estimators with the minimum RMSE\n",
        "optimal_estimators = np.argmin(rmse_values) + 1\n",
        "print(f\"Optimal number of estimators: {optimal_estimators}, Minimum RMSE: {rmse_values[optimal_estimators - 1]:.3f}\")\n",
        "\n",
        "# Train the final model with the optimal number of estimators\n",
        "rf_regressor.set_params(n_estimators=optimal_estimators)\n",
        "rf_regressor.fit(X_train, y_train)\n"
      ],
      "metadata": {
        "colab": {
          "base_uri": "https://localhost:8080/",
          "height": 92
        },
        "id": "azZwHjmp8uhk",
        "outputId": "8b2c32fa-3315-4f72-ff1f-a6063ab50ade"
      },
      "execution_count": null,
      "outputs": [
        {
          "output_type": "stream",
          "name": "stdout",
          "text": [
            "Optimal number of estimators: 18, Minimum RMSE: 0.283\n"
          ]
        },
        {
          "output_type": "execute_result",
          "data": {
            "text/plain": [
              "RandomForestRegressor(n_estimators=18)"
            ],
            "text/html": [
              "<style>#sk-container-id-2 {color: black;background-color: white;}#sk-container-id-2 pre{padding: 0;}#sk-container-id-2 div.sk-toggleable {background-color: white;}#sk-container-id-2 label.sk-toggleable__label {cursor: pointer;display: block;width: 100%;margin-bottom: 0;padding: 0.3em;box-sizing: border-box;text-align: center;}#sk-container-id-2 label.sk-toggleable__label-arrow:before {content: \"▸\";float: left;margin-right: 0.25em;color: #696969;}#sk-container-id-2 label.sk-toggleable__label-arrow:hover:before {color: black;}#sk-container-id-2 div.sk-estimator:hover label.sk-toggleable__label-arrow:before {color: black;}#sk-container-id-2 div.sk-toggleable__content {max-height: 0;max-width: 0;overflow: hidden;text-align: left;background-color: #f0f8ff;}#sk-container-id-2 div.sk-toggleable__content pre {margin: 0.2em;color: black;border-radius: 0.25em;background-color: #f0f8ff;}#sk-container-id-2 input.sk-toggleable__control:checked~div.sk-toggleable__content {max-height: 200px;max-width: 100%;overflow: auto;}#sk-container-id-2 input.sk-toggleable__control:checked~label.sk-toggleable__label-arrow:before {content: \"▾\";}#sk-container-id-2 div.sk-estimator input.sk-toggleable__control:checked~label.sk-toggleable__label {background-color: #d4ebff;}#sk-container-id-2 div.sk-label input.sk-toggleable__control:checked~label.sk-toggleable__label {background-color: #d4ebff;}#sk-container-id-2 input.sk-hidden--visually {border: 0;clip: rect(1px 1px 1px 1px);clip: rect(1px, 1px, 1px, 1px);height: 1px;margin: -1px;overflow: hidden;padding: 0;position: absolute;width: 1px;}#sk-container-id-2 div.sk-estimator {font-family: monospace;background-color: #f0f8ff;border: 1px dotted black;border-radius: 0.25em;box-sizing: border-box;margin-bottom: 0.5em;}#sk-container-id-2 div.sk-estimator:hover {background-color: #d4ebff;}#sk-container-id-2 div.sk-parallel-item::after {content: \"\";width: 100%;border-bottom: 1px solid gray;flex-grow: 1;}#sk-container-id-2 div.sk-label:hover label.sk-toggleable__label {background-color: #d4ebff;}#sk-container-id-2 div.sk-serial::before {content: \"\";position: absolute;border-left: 1px solid gray;box-sizing: border-box;top: 0;bottom: 0;left: 50%;z-index: 0;}#sk-container-id-2 div.sk-serial {display: flex;flex-direction: column;align-items: center;background-color: white;padding-right: 0.2em;padding-left: 0.2em;position: relative;}#sk-container-id-2 div.sk-item {position: relative;z-index: 1;}#sk-container-id-2 div.sk-parallel {display: flex;align-items: stretch;justify-content: center;background-color: white;position: relative;}#sk-container-id-2 div.sk-item::before, #sk-container-id-2 div.sk-parallel-item::before {content: \"\";position: absolute;border-left: 1px solid gray;box-sizing: border-box;top: 0;bottom: 0;left: 50%;z-index: -1;}#sk-container-id-2 div.sk-parallel-item {display: flex;flex-direction: column;z-index: 1;position: relative;background-color: white;}#sk-container-id-2 div.sk-parallel-item:first-child::after {align-self: flex-end;width: 50%;}#sk-container-id-2 div.sk-parallel-item:last-child::after {align-self: flex-start;width: 50%;}#sk-container-id-2 div.sk-parallel-item:only-child::after {width: 0;}#sk-container-id-2 div.sk-dashed-wrapped {border: 1px dashed gray;margin: 0 0.4em 0.5em 0.4em;box-sizing: border-box;padding-bottom: 0.4em;background-color: white;}#sk-container-id-2 div.sk-label label {font-family: monospace;font-weight: bold;display: inline-block;line-height: 1.2em;}#sk-container-id-2 div.sk-label-container {text-align: center;}#sk-container-id-2 div.sk-container {/* jupyter's `normalize.less` sets `[hidden] { display: none; }` but bootstrap.min.css set `[hidden] { display: none !important; }` so we also need the `!important` here to be able to override the default hidden behavior on the sphinx rendered scikit-learn.org. See: https://github.com/scikit-learn/scikit-learn/issues/21755 */display: inline-block !important;position: relative;}#sk-container-id-2 div.sk-text-repr-fallback {display: none;}</style><div id=\"sk-container-id-2\" class=\"sk-top-container\"><div class=\"sk-text-repr-fallback\"><pre>RandomForestRegressor(n_estimators=18)</pre><b>In a Jupyter environment, please rerun this cell to show the HTML representation or trust the notebook. <br />On GitHub, the HTML representation is unable to render, please try loading this page with nbviewer.org.</b></div><div class=\"sk-container\" hidden><div class=\"sk-item\"><div class=\"sk-estimator sk-toggleable\"><input class=\"sk-toggleable__control sk-hidden--visually\" id=\"sk-estimator-id-2\" type=\"checkbox\" checked><label for=\"sk-estimator-id-2\" class=\"sk-toggleable__label sk-toggleable__label-arrow\">RandomForestRegressor</label><div class=\"sk-toggleable__content\"><pre>RandomForestRegressor(n_estimators=18)</pre></div></div></div></div></div>"
            ]
          },
          "metadata": {},
          "execution_count": 26
        }
      ]
    },
    {
      "cell_type": "code",
      "source": [
        "y_pred = rf_regressor.predict(X_test)\n",
        "\n",
        "y_pred = [np.int64(element) for element in y_pred]\n",
        "\n",
        "\n",
        "\n",
        "from sklearn.metrics import classification_report\n",
        "print(classification_report(y_test, y_pred))\n",
        "\n",
        "# Display feature importance\n",
        "feature_importance = rf_regressor.feature_importances_\n",
        "feature_importance_df = pd.DataFrame({\"Feature\": X.columns, \"Importance\": feature_importance})\n",
        "feature_importance_df = feature_importance_df.sort_values(by=\"Importance\", ascending=False)\n",
        "print(\"Feature Importance:\")\n",
        "print(feature_importance_df.round(3))\n"
      ],
      "metadata": {
        "colab": {
          "base_uri": "https://localhost:8080/"
        },
        "id": "qpyLuBw58xqH",
        "outputId": "2a48806c-6831-4478-cbcc-e5bba06d77c9"
      },
      "execution_count": null,
      "outputs": [
        {
          "output_type": "stream",
          "name": "stdout",
          "text": [
            "              precision    recall  f1-score   support\n",
            "\n",
            "           0       0.09      0.85      0.16      4881\n",
            "           1       0.93      0.20      0.33     51932\n",
            "\n",
            "    accuracy                           0.26     56813\n",
            "   macro avg       0.51      0.53      0.25     56813\n",
            "weighted avg       0.86      0.26      0.32     56813\n",
            "\n",
            "Feature Importance:\n",
            "                                         Feature  Importance\n",
            "1                                  review_length       0.124\n",
            "5                                review_polarity       0.079\n",
            "4                            review_subjectivity       0.075\n",
            "2                              readability_score       0.065\n",
            "6                             review_nouns_count       0.059\n",
            "3                              review_complexity       0.052\n",
            "17                                        Topic2       0.047\n",
            "16                                        Topic1       0.044\n",
            "23                                        Topic8       0.042\n",
            "15                                        Topic0       0.041\n",
            "24                                        Topic9       0.040\n",
            "14                              review_sentiment       0.040\n",
            "21                                        Topic6       0.039\n",
            "22                                        Topic7       0.038\n",
            "20                                        Topic5       0.038\n",
            "18                                        Topic3       0.037\n",
            "0                                           rate       0.037\n",
            "19                                        Topic4       0.036\n",
            "7                             review_verbs_count       0.029\n",
            "12  number_of_Positive_Emotions_words_in_reviews       0.009\n",
            "13           number_of_deontics_words_in_reviews       0.007\n",
            "28                            information giving       0.007\n",
            "29                                         other       0.006\n",
            "26                             problem discovery       0.003\n",
            "8               number_of_anger_words_in_reviews       0.002\n",
            "25                               feature request       0.002\n",
            "11  number_of_Negative_Emotions_words_in_reviews       0.001\n",
            "9             number_of_sadness_words_in_reviews       0.001\n",
            "27                           information seeking       0.000\n",
            "10            number_of_Anxiety_words_in_reviews       0.000\n"
          ]
        }
      ]
    },
    {
      "cell_type": "code",
      "source": [],
      "metadata": {
        "id": "zsKvcADn81o4"
      },
      "execution_count": null,
      "outputs": []
    },
    {
      "cell_type": "code",
      "source": [],
      "metadata": {
        "id": "t2J-ViZ_8ej5"
      },
      "execution_count": null,
      "outputs": []
    }
  ]
}