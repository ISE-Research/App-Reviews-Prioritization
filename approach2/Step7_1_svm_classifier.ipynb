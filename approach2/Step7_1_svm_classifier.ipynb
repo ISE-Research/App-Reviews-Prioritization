{
  "nbformat": 4,
  "nbformat_minor": 0,
  "metadata": {
    "colab": {
      "provenance": []
    },
    "kernelspec": {
      "name": "python3",
      "display_name": "Python 3"
    },
    "language_info": {
      "name": "python"
    }
  },
  "cells": [
    {
      "cell_type": "code",
      "execution_count": null,
      "metadata": {
        "id": "JvkSykxz8MAp"
      },
      "outputs": [],
      "source": [
        "import pandas as pd\n",
        "import numpy as np\n",
        "import matplotlib.pyplot as plt\n",
        "%matplotlib inline\n",
        "from sklearn.model_selection import train_test_split, cross_val_score, KFold\n",
        "from sklearn.svm import SVC\n",
        "from sklearn.metrics import classification_report, confusion_matrix\n",
        "# Libraries for plot\n",
        "from sklearn.feature_extraction.text import CountVectorizer\n",
        "from sklearn.svm import LinearSVC\n",
        "import io\n",
        "\n",
        "from google.colab import drive\n",
        "drive.mount('/content/drive')\n",
        "\n",
        "path = '/content/drive/My Drive/merged_data_ready_to_train with intention without feature name.csv'\n",
        "data = pd.read_csv(path)\n",
        "\n",
        "data = data.drop(['f8', 'f9','f10','f11','f13','f15','f16','f17','f18','f19','f20','f22','f23','f24','f25','f26','f27','f28'], axis = 1)\n",
        "\n",
        "# Get names of indexes for which column output has value -1\n",
        "indexNames = data[data['output'] == -1].index\n",
        "# Delete these row indexes from dataFrame\n",
        "data.drop(indexNames, inplace=True)\n",
        "\n",
        "# Update the output column values\n",
        "data.loc[data.output == 0, 'output'] = 1\n",
        "data.loc[data.output == 2, 'output'] = 1\n",
        "data.loc[data.output == 3, 'output'] = 1\n",
        "data.loc[data.output > 3, 'output'] = 0\n",
        "\n",
        "X = data.drop('output', axis=1)\n",
        "y = data['output']\n",
        "\n",
        "# Initialize the SVM classifiers\n",
        "svclassifier_poly = SVC(kernel='poly', degree=1)\n",
        "svclassifier_rbf = SVC(kernel='rbf')\n",
        "svclassifier_sigmoid = SVC(kernel='sigmoid')\n",
        "\n",
        "# Perform 5-fold cross-validation and print results for each kernel\n",
        "kf = KFold(n_splits=5, shuffle=True, random_state=42)\n",
        "\n",
        "def evaluate_model(model, X, y, kf):\n",
        "    accuracy_scores = cross_val_score(model, X, y, cv=kf, scoring='accuracy')\n",
        "    precision_scores = cross_val_score(model, X, y, cv=kf, scoring='precision')\n",
        "    recall_scores = cross_val_score(model, X, y, cv=kf, scoring='recall')\n",
        "    f1_scores = cross_val_score(model, X, y, cv=kf, scoring='f1')\n",
        "\n",
        "    print(f\"Accuracy: {accuracy_scores.mean():.2f} (+/- {accuracy_scores.std()*2:.2f})\")\n",
        "    print(f\"Precision: {precision_scores.mean():.2f} (+/- {precision_scores.std()*2:.2f})\")\n",
        "    print(f\"Recall: {recall_scores.mean():.2f} (+/- {recall_scores.std()*2:.2f})\")\n",
        "    print(f\"F1 Score: {f1_scores.mean():.2f} (+/- {f1_scores.std()*2:.2f})\")\n",
        "    print(\"\\n\")\n",
        "\n",
        "print(\"Poly Kernel Results:\")\n",
        "evaluate_model(svclassifier_poly, X, y, kf)\n",
        "\n",
        "print(\"RBF Kernel Results:\")\n",
        "evaluate_model(svclassifier_rbf, X, y, kf)\n",
        "\n",
        "print(\"Sigmoid Kernel Results:\")\n",
        "evaluate_model(svclassifier_sigmoid, X, y, kf)\n"
      ]
    }
  ]
}