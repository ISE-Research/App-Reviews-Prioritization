{
  "nbformat": 4,
  "nbformat_minor": 0,
  "metadata": {
    "colab": {
      "provenance": []
    },
    "kernelspec": {
      "name": "python3",
      "display_name": "Python 3"
    },
    "language_info": {
      "name": "python"
    }
  },
  "cells": [
    {
      "cell_type": "code",
      "execution_count": null,
      "metadata": {
        "id": "UVyvp89R9h2x"
      },
      "outputs": [],
      "source": [
        "import pandas as pd\n",
        "import numpy as np\n",
        "from sklearn import tree\n",
        "from sklearn.model_selection import train_test_split, cross_val_score\n",
        "from sklearn.metrics import classification_report\n",
        "from sklearn import metrics\n",
        "from google.colab import drive\n",
        "\n",
        "# Mount Google Drive\n",
        "drive.mount('/content/drive')\n",
        "\n",
        "# Load data\n",
        "path = '/content/drive/My Drive/merged_data_ready_to_train with intention without feature name.csv'\n",
        "data = pd.read_csv(path)\n",
        "\n",
        "# Modify output column as specified\n",
        "data.loc[data.output == 0, 'output'] = 1\n",
        "data.loc[data.output == 2, 'output'] = 1\n",
        "data.loc[data.output == 3, 'output'] = 1\n",
        "data.loc[data.output > 3, 'output'] = 0\n",
        "\n",
        "# Separate features and target variable\n",
        "X = data.drop('output', axis=1)\n",
        "y = data['output']\n",
        "\n",
        "# Initialize Decision Tree Classifier\n",
        "DecisionTreeClassifier_model = tree.DecisionTreeClassifier()\n",
        "\n",
        "# Perform 5-fold cross-validation\n",
        "cv_scores = cross_val_score(DecisionTreeClassifier_model, X, y, cv=5)\n",
        "\n",
        "# Print cross-validation scores\n",
        "print(\"Cross-validation scores:\", cv_scores)\n",
        "print(\"Mean cross-validation score:\", np.mean(cv_scores))\n",
        "\n",
        "# Split the data into training and testing sets for further evaluation\n",
        "X_train, X_test, y_train, y_test = train_test_split(X, y, test_size=0.20)\n",
        "\n",
        "# Train the model on the training data\n",
        "DecisionTreeClassifier_model = DecisionTreeClassifier_model.fit(X_train, y_train)\n",
        "\n",
        "# Make predictions on the test data\n",
        "y_pred_DecisionTreeClassifier_model = DecisionTreeClassifier_model.predict(X_test)\n",
        "\n",
        "# Print accuracy\n",
        "print(\"Accuracy:\", metrics.accuracy_score(y_test, y_pred_DecisionTreeClassifier_model))\n",
        "\n",
        "# Print classification report\n",
        "print(classification_report(y_test, y_pred_DecisionTreeClassifier_model))\n"
      ]
    }
  ]
}